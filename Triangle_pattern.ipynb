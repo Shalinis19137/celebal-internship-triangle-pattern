{
  "nbformat": 4,
  "nbformat_minor": 0,
  "metadata": {
    "colab": {
      "provenance": [],
      "authorship_tag": "ABX9TyMW9vnSLqTitF4Pg7Ogydb4",
      "include_colab_link": true
    },
    "kernelspec": {
      "name": "python3",
      "display_name": "Python 3"
    },
    "language_info": {
      "name": "python"
    }
  },
  "cells": [
    {
      "cell_type": "markdown",
      "metadata": {
        "id": "view-in-github",
        "colab_type": "text"
      },
      "source": [
        "<a href=\"https://colab.research.google.com/github/Shalinis19137/triangle-pattern_Celebal_1/blob/main/Triangle_pattern.ipynb\" target=\"_parent\"><img src=\"https://colab.research.google.com/assets/colab-badge.svg\" alt=\"Open In Colab\"/></a>"
      ]
    },
    {
      "cell_type": "code",
      "execution_count": null,
      "metadata": {
        "colab": {
          "base_uri": "https://localhost:8080/"
        },
        "id": "egPfdbpmfMZd",
        "outputId": "6739fc6c-7ad8-4d11-8ec7-be5ff712aa4d"
      },
      "outputs": [
        {
          "output_type": "stream",
          "name": "stdout",
          "text": [
            "*\n",
            "**\n",
            "***\n",
            "****\n",
            "*****\n"
          ]
        }
      ],
      "source": [
        "# Number of rows for the triangle\n",
        "rows = 5  # You can change this value\n",
        "\n",
        "# Printing the triangle pattern\n",
        "for i in range(1, rows + 1):\n",
        "    print('*' * i)\n"
      ]
    }
  ]
}