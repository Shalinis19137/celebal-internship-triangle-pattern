{
  "nbformat": 4,
  "nbformat_minor": 0,
  "metadata": {
    "colab": {
      "provenance": []
    },
    "kernelspec": {
      "name": "python3",
      "display_name": "Python 3"
    },
    "language_info": {
      "name": "python"
    }
  },
  "cells": [
    {
      "cell_type": "code",
      "execution_count": 1,
      "metadata": {
        "colab": {
          "base_uri": "https://localhost:8080/"
        },
        "id": "egPfdbpmfMZd",
        "outputId": "6739fc6c-7ad8-4d11-8ec7-be5ff712aa4d"
      },
      "outputs": [
        {
          "output_type": "stream",
          "name": "stdout",
          "text": [
            "*\n",
            "**\n",
            "***\n",
            "****\n",
            "*****\n"
          ]
        }
      ],
      "source": [
        "# Number of rows for the triangle\n",
        "rows = 5  # You can change this value\n",
        "\n",
        "# Printing the triangle pattern\n",
        "for i in range(1, rows + 1):\n",
        "    print('*' * i)\n"
      ]
    },
    {
      "cell_type": "code",
      "source": [],
      "metadata": {
        "id": "EkQH6uACfjck"
      },
      "execution_count": null,
      "outputs": []
    }
  ]
}